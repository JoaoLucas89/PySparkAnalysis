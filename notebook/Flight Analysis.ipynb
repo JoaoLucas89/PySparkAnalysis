{
 "cells": [
  {
   "cell_type": "code",
   "execution_count": 0,
   "metadata": {
    "application/vnd.databricks.v1+cell": {
     "cellMetadata": {
      "byteLimit": 2048000,
      "rowLimit": 10000
     },
     "inputWidgets": {},
     "nuid": "6f12615b-754c-4c9e-94e6-5b4246673637",
     "showTitle": false,
     "tableResultSettingsMap": {},
     "title": ""
    }
   },
   "outputs": [
    {
     "output_type": "display_data",
     "data": {
      "text/html": [
       "<style scoped>\n",
       "  .table-result-container {\n",
       "    max-height: 300px;\n",
       "    overflow: auto;\n",
       "  }\n",
       "  table, th, td {\n",
       "    border: 1px solid black;\n",
       "    border-collapse: collapse;\n",
       "  }\n",
       "  th, td {\n",
       "    padding: 5px;\n",
       "  }\n",
       "  th {\n",
       "    text-align: left;\n",
       "  }\n",
       "</style><div class='table-result-container'><table class='table-result'><thead style='background-color: white'><tr><th>path</th><th>name</th><th>size</th><th>modificationTime</th></tr></thead><tbody><tr><td>dbfs:/databricks-datasets/COVID/</td><td>COVID/</td><td>0</td><td>0</td></tr><tr><td>dbfs:/databricks-datasets/README.md</td><td>README.md</td><td>976</td><td>1532468253000</td></tr><tr><td>dbfs:/databricks-datasets/Rdatasets/</td><td>Rdatasets/</td><td>0</td><td>0</td></tr><tr><td>dbfs:/databricks-datasets/SPARK_README.md</td><td>SPARK_README.md</td><td>3359</td><td>1455043490000</td></tr><tr><td>dbfs:/databricks-datasets/adult/</td><td>adult/</td><td>0</td><td>0</td></tr><tr><td>dbfs:/databricks-datasets/airlines/</td><td>airlines/</td><td>0</td><td>0</td></tr><tr><td>dbfs:/databricks-datasets/amazon/</td><td>amazon/</td><td>0</td><td>0</td></tr><tr><td>dbfs:/databricks-datasets/asa/</td><td>asa/</td><td>0</td><td>0</td></tr><tr><td>dbfs:/databricks-datasets/atlas_higgs/</td><td>atlas_higgs/</td><td>0</td><td>0</td></tr><tr><td>dbfs:/databricks-datasets/bikeSharing/</td><td>bikeSharing/</td><td>0</td><td>0</td></tr><tr><td>dbfs:/databricks-datasets/cctvVideos/</td><td>cctvVideos/</td><td>0</td><td>0</td></tr><tr><td>dbfs:/databricks-datasets/credit-card-fraud/</td><td>credit-card-fraud/</td><td>0</td><td>0</td></tr><tr><td>dbfs:/databricks-datasets/cs100/</td><td>cs100/</td><td>0</td><td>0</td></tr><tr><td>dbfs:/databricks-datasets/cs110x/</td><td>cs110x/</td><td>0</td><td>0</td></tr><tr><td>dbfs:/databricks-datasets/cs190/</td><td>cs190/</td><td>0</td><td>0</td></tr><tr><td>dbfs:/databricks-datasets/data.gov/</td><td>data.gov/</td><td>0</td><td>0</td></tr><tr><td>dbfs:/databricks-datasets/definitive-guide/</td><td>definitive-guide/</td><td>0</td><td>0</td></tr><tr><td>dbfs:/databricks-datasets/delta-sharing/</td><td>delta-sharing/</td><td>0</td><td>0</td></tr><tr><td>dbfs:/databricks-datasets/flights/</td><td>flights/</td><td>0</td><td>0</td></tr><tr><td>dbfs:/databricks-datasets/flower_photos/</td><td>flower_photos/</td><td>0</td><td>0</td></tr><tr><td>dbfs:/databricks-datasets/flowers/</td><td>flowers/</td><td>0</td><td>0</td></tr><tr><td>dbfs:/databricks-datasets/genomics/</td><td>genomics/</td><td>0</td><td>0</td></tr><tr><td>dbfs:/databricks-datasets/hail/</td><td>hail/</td><td>0</td><td>0</td></tr><tr><td>dbfs:/databricks-datasets/identifying-campaign-effectiveness/</td><td>identifying-campaign-effectiveness/</td><td>0</td><td>0</td></tr><tr><td>dbfs:/databricks-datasets/iot/</td><td>iot/</td><td>0</td><td>0</td></tr><tr><td>dbfs:/databricks-datasets/iot-stream/</td><td>iot-stream/</td><td>0</td><td>0</td></tr><tr><td>dbfs:/databricks-datasets/learning-spark/</td><td>learning-spark/</td><td>0</td><td>0</td></tr><tr><td>dbfs:/databricks-datasets/learning-spark-v2/</td><td>learning-spark-v2/</td><td>0</td><td>0</td></tr><tr><td>dbfs:/databricks-datasets/lending-club-loan-stats/</td><td>lending-club-loan-stats/</td><td>0</td><td>0</td></tr><tr><td>dbfs:/databricks-datasets/med-images/</td><td>med-images/</td><td>0</td><td>0</td></tr><tr><td>dbfs:/databricks-datasets/media/</td><td>media/</td><td>0</td><td>0</td></tr><tr><td>dbfs:/databricks-datasets/mnist-digits/</td><td>mnist-digits/</td><td>0</td><td>0</td></tr><tr><td>dbfs:/databricks-datasets/news20.binary/</td><td>news20.binary/</td><td>0</td><td>0</td></tr><tr><td>dbfs:/databricks-datasets/nyctaxi/</td><td>nyctaxi/</td><td>0</td><td>0</td></tr><tr><td>dbfs:/databricks-datasets/nyctaxi-with-zipcodes/</td><td>nyctaxi-with-zipcodes/</td><td>0</td><td>0</td></tr><tr><td>dbfs:/databricks-datasets/online_retail/</td><td>online_retail/</td><td>0</td><td>0</td></tr><tr><td>dbfs:/databricks-datasets/overlap-join/</td><td>overlap-join/</td><td>0</td><td>0</td></tr><tr><td>dbfs:/databricks-datasets/power-plant/</td><td>power-plant/</td><td>0</td><td>0</td></tr><tr><td>dbfs:/databricks-datasets/retail-org/</td><td>retail-org/</td><td>0</td><td>0</td></tr><tr><td>dbfs:/databricks-datasets/rwe/</td><td>rwe/</td><td>0</td><td>0</td></tr><tr><td>dbfs:/databricks-datasets/sai-summit-2019-sf/</td><td>sai-summit-2019-sf/</td><td>0</td><td>0</td></tr><tr><td>dbfs:/databricks-datasets/sample_logs/</td><td>sample_logs/</td><td>0</td><td>0</td></tr><tr><td>dbfs:/databricks-datasets/samples/</td><td>samples/</td><td>0</td><td>0</td></tr><tr><td>dbfs:/databricks-datasets/sfo_customer_survey/</td><td>sfo_customer_survey/</td><td>0</td><td>0</td></tr><tr><td>dbfs:/databricks-datasets/sms_spam_collection/</td><td>sms_spam_collection/</td><td>0</td><td>0</td></tr><tr><td>dbfs:/databricks-datasets/songs/</td><td>songs/</td><td>0</td><td>0</td></tr><tr><td>dbfs:/databricks-datasets/structured-streaming/</td><td>structured-streaming/</td><td>0</td><td>0</td></tr><tr><td>dbfs:/databricks-datasets/timeseries/</td><td>timeseries/</td><td>0</td><td>0</td></tr><tr><td>dbfs:/databricks-datasets/tpch/</td><td>tpch/</td><td>0</td><td>0</td></tr><tr><td>dbfs:/databricks-datasets/travel_recommendations_realtime/</td><td>travel_recommendations_realtime/</td><td>0</td><td>0</td></tr><tr><td>dbfs:/databricks-datasets/warmup/</td><td>warmup/</td><td>0</td><td>0</td></tr><tr><td>dbfs:/databricks-datasets/weather/</td><td>weather/</td><td>0</td><td>0</td></tr><tr><td>dbfs:/databricks-datasets/wiki/</td><td>wiki/</td><td>0</td><td>0</td></tr><tr><td>dbfs:/databricks-datasets/wikipedia-datasets/</td><td>wikipedia-datasets/</td><td>0</td><td>0</td></tr><tr><td>dbfs:/databricks-datasets/wine-quality/</td><td>wine-quality/</td><td>0</td><td>0</td></tr></tbody></table></div>"
      ]
     },
     "metadata": {
      "application/vnd.databricks.v1+output": {
       "addedWidgets": {},
       "aggData": [],
       "aggError": "",
       "aggOverflow": false,
       "aggSchema": [],
       "aggSeriesLimitReached": false,
       "aggType": "",
       "arguments": {},
       "columnCustomDisplayInfos": {},
       "data": [
        [
         "dbfs:/databricks-datasets/COVID/",
         "COVID/",
         0,
         0
        ],
        [
         "dbfs:/databricks-datasets/README.md",
         "README.md",
         976,
         1532468253000
        ],
        [
         "dbfs:/databricks-datasets/Rdatasets/",
         "Rdatasets/",
         0,
         0
        ],
        [
         "dbfs:/databricks-datasets/SPARK_README.md",
         "SPARK_README.md",
         3359,
         1455043490000
        ],
        [
         "dbfs:/databricks-datasets/adult/",
         "adult/",
         0,
         0
        ],
        [
         "dbfs:/databricks-datasets/airlines/",
         "airlines/",
         0,
         0
        ],
        [
         "dbfs:/databricks-datasets/amazon/",
         "amazon/",
         0,
         0
        ],
        [
         "dbfs:/databricks-datasets/asa/",
         "asa/",
         0,
         0
        ],
        [
         "dbfs:/databricks-datasets/atlas_higgs/",
         "atlas_higgs/",
         0,
         0
        ],
        [
         "dbfs:/databricks-datasets/bikeSharing/",
         "bikeSharing/",
         0,
         0
        ],
        [
         "dbfs:/databricks-datasets/cctvVideos/",
         "cctvVideos/",
         0,
         0
        ],
        [
         "dbfs:/databricks-datasets/credit-card-fraud/",
         "credit-card-fraud/",
         0,
         0
        ],
        [
         "dbfs:/databricks-datasets/cs100/",
         "cs100/",
         0,
         0
        ],
        [
         "dbfs:/databricks-datasets/cs110x/",
         "cs110x/",
         0,
         0
        ],
        [
         "dbfs:/databricks-datasets/cs190/",
         "cs190/",
         0,
         0
        ],
        [
         "dbfs:/databricks-datasets/data.gov/",
         "data.gov/",
         0,
         0
        ],
        [
         "dbfs:/databricks-datasets/definitive-guide/",
         "definitive-guide/",
         0,
         0
        ],
        [
         "dbfs:/databricks-datasets/delta-sharing/",
         "delta-sharing/",
         0,
         0
        ],
        [
         "dbfs:/databricks-datasets/flights/",
         "flights/",
         0,
         0
        ],
        [
         "dbfs:/databricks-datasets/flower_photos/",
         "flower_photos/",
         0,
         0
        ],
        [
         "dbfs:/databricks-datasets/flowers/",
         "flowers/",
         0,
         0
        ],
        [
         "dbfs:/databricks-datasets/genomics/",
         "genomics/",
         0,
         0
        ],
        [
         "dbfs:/databricks-datasets/hail/",
         "hail/",
         0,
         0
        ],
        [
         "dbfs:/databricks-datasets/identifying-campaign-effectiveness/",
         "identifying-campaign-effectiveness/",
         0,
         0
        ],
        [
         "dbfs:/databricks-datasets/iot/",
         "iot/",
         0,
         0
        ],
        [
         "dbfs:/databricks-datasets/iot-stream/",
         "iot-stream/",
         0,
         0
        ],
        [
         "dbfs:/databricks-datasets/learning-spark/",
         "learning-spark/",
         0,
         0
        ],
        [
         "dbfs:/databricks-datasets/learning-spark-v2/",
         "learning-spark-v2/",
         0,
         0
        ],
        [
         "dbfs:/databricks-datasets/lending-club-loan-stats/",
         "lending-club-loan-stats/",
         0,
         0
        ],
        [
         "dbfs:/databricks-datasets/med-images/",
         "med-images/",
         0,
         0
        ],
        [
         "dbfs:/databricks-datasets/media/",
         "media/",
         0,
         0
        ],
        [
         "dbfs:/databricks-datasets/mnist-digits/",
         "mnist-digits/",
         0,
         0
        ],
        [
         "dbfs:/databricks-datasets/news20.binary/",
         "news20.binary/",
         0,
         0
        ],
        [
         "dbfs:/databricks-datasets/nyctaxi/",
         "nyctaxi/",
         0,
         0
        ],
        [
         "dbfs:/databricks-datasets/nyctaxi-with-zipcodes/",
         "nyctaxi-with-zipcodes/",
         0,
         0
        ],
        [
         "dbfs:/databricks-datasets/online_retail/",
         "online_retail/",
         0,
         0
        ],
        [
         "dbfs:/databricks-datasets/overlap-join/",
         "overlap-join/",
         0,
         0
        ],
        [
         "dbfs:/databricks-datasets/power-plant/",
         "power-plant/",
         0,
         0
        ],
        [
         "dbfs:/databricks-datasets/retail-org/",
         "retail-org/",
         0,
         0
        ],
        [
         "dbfs:/databricks-datasets/rwe/",
         "rwe/",
         0,
         0
        ],
        [
         "dbfs:/databricks-datasets/sai-summit-2019-sf/",
         "sai-summit-2019-sf/",
         0,
         0
        ],
        [
         "dbfs:/databricks-datasets/sample_logs/",
         "sample_logs/",
         0,
         0
        ],
        [
         "dbfs:/databricks-datasets/samples/",
         "samples/",
         0,
         0
        ],
        [
         "dbfs:/databricks-datasets/sfo_customer_survey/",
         "sfo_customer_survey/",
         0,
         0
        ],
        [
         "dbfs:/databricks-datasets/sms_spam_collection/",
         "sms_spam_collection/",
         0,
         0
        ],
        [
         "dbfs:/databricks-datasets/songs/",
         "songs/",
         0,
         0
        ],
        [
         "dbfs:/databricks-datasets/structured-streaming/",
         "structured-streaming/",
         0,
         0
        ],
        [
         "dbfs:/databricks-datasets/timeseries/",
         "timeseries/",
         0,
         0
        ],
        [
         "dbfs:/databricks-datasets/tpch/",
         "tpch/",
         0,
         0
        ],
        [
         "dbfs:/databricks-datasets/travel_recommendations_realtime/",
         "travel_recommendations_realtime/",
         0,
         0
        ],
        [
         "dbfs:/databricks-datasets/warmup/",
         "warmup/",
         0,
         0
        ],
        [
         "dbfs:/databricks-datasets/weather/",
         "weather/",
         0,
         0
        ],
        [
         "dbfs:/databricks-datasets/wiki/",
         "wiki/",
         0,
         0
        ],
        [
         "dbfs:/databricks-datasets/wikipedia-datasets/",
         "wikipedia-datasets/",
         0,
         0
        ],
        [
         "dbfs:/databricks-datasets/wine-quality/",
         "wine-quality/",
         0,
         0
        ]
       ],
       "datasetInfos": [],
       "dbfsResultPath": null,
       "isJsonSchema": true,
       "metadata": {},
       "overflow": false,
       "plotOptions": {
        "customPlotOptions": {},
        "displayType": "table",
        "pivotAggregation": null,
        "pivotColumns": null,
        "xColumns": null,
        "yColumns": null
       },
       "removedWidgets": [],
       "schema": [
        {
         "metadata": "{}",
         "name": "path",
         "type": "\"string\""
        },
        {
         "metadata": "{}",
         "name": "name",
         "type": "\"string\""
        },
        {
         "metadata": "{}",
         "name": "size",
         "type": "\"long\""
        },
        {
         "metadata": "{}",
         "name": "modificationTime",
         "type": "\"long\""
        }
       ],
       "type": "table"
      }
     },
     "output_type": "display_data"
    }
   ],
   "source": [
    "display(dbutils.fs.ls(\"/databricks-datasets\"))"
   ]
  },
  {
   "cell_type": "code",
   "execution_count": 0,
   "metadata": {
    "application/vnd.databricks.v1+cell": {
     "cellMetadata": {
      "byteLimit": 2048000,
      "rowLimit": 10000
     },
     "inputWidgets": {},
     "nuid": "7ccfe756-a29f-4872-b332-e70d810ce8d6",
     "showTitle": false,
     "tableResultSettingsMap": {},
     "title": ""
    }
   },
   "outputs": [
    {
     "output_type": "display_data",
     "data": {
      "text/html": [
       "<style scoped>\n",
       "  .table-result-container {\n",
       "    max-height: 300px;\n",
       "    overflow: auto;\n",
       "  }\n",
       "  table, th, td {\n",
       "    border: 1px solid black;\n",
       "    border-collapse: collapse;\n",
       "  }\n",
       "  th, td {\n",
       "    padding: 5px;\n",
       "  }\n",
       "  th {\n",
       "    text-align: left;\n",
       "  }\n",
       "</style><div class='table-result-container'><table class='table-result'><thead style='background-color: white'><tr><th>path</th><th>name</th><th>size</th><th>modificationTime</th></tr></thead><tbody><tr><td>dbfs:/databricks-datasets/sfo_customer_survey/2013_SFO_Customer_Survey.csv</td><td>2013_SFO_Customer_Survey.csv</td><td>566561</td><td>1467995346000</td></tr><tr><td>dbfs:/databricks-datasets/sfo_customer_survey/README.MD</td><td>README.MD</td><td>423</td><td>1467995320000</td></tr></tbody></table></div>"
      ]
     },
     "metadata": {
      "application/vnd.databricks.v1+output": {
       "addedWidgets": {},
       "aggData": [],
       "aggError": "",
       "aggOverflow": false,
       "aggSchema": [],
       "aggSeriesLimitReached": false,
       "aggType": "",
       "arguments": {},
       "columnCustomDisplayInfos": {},
       "data": [
        [
         "dbfs:/databricks-datasets/sfo_customer_survey/2013_SFO_Customer_Survey.csv",
         "2013_SFO_Customer_Survey.csv",
         566561,
         1467995346000
        ],
        [
         "dbfs:/databricks-datasets/sfo_customer_survey/README.MD",
         "README.MD",
         423,
         1467995320000
        ]
       ],
       "datasetInfos": [],
       "dbfsResultPath": null,
       "isJsonSchema": true,
       "metadata": {},
       "overflow": false,
       "plotOptions": {
        "customPlotOptions": {},
        "displayType": "table",
        "pivotAggregation": null,
        "pivotColumns": null,
        "xColumns": null,
        "yColumns": null
       },
       "removedWidgets": [],
       "schema": [
        {
         "metadata": "{}",
         "name": "path",
         "type": "\"string\""
        },
        {
         "metadata": "{}",
         "name": "name",
         "type": "\"string\""
        },
        {
         "metadata": "{}",
         "name": "size",
         "type": "\"long\""
        },
        {
         "metadata": "{}",
         "name": "modificationTime",
         "type": "\"long\""
        }
       ],
       "type": "table"
      }
     },
     "output_type": "display_data"
    }
   ],
   "source": [
    "display(dbutils.fs.ls(\"dbfs:/databricks-datasets/sfo_customer_survey/\"))\n"
   ]
  },
  {
   "cell_type": "code",
   "execution_count": 0,
   "metadata": {
    "application/vnd.databricks.v1+cell": {
     "cellMetadata": {
      "byteLimit": 2048000,
      "rowLimit": 10000
     },
     "inputWidgets": {},
     "nuid": "09aa118f-8a38-4212-9662-a64dedf82d46",
     "showTitle": false,
     "tableResultSettingsMap": {},
     "title": ""
    }
   },
   "outputs": [
    {
     "output_type": "display_data",
     "data": {
      "text/html": [
       "<style scoped>\n",
       "  .table-result-container {\n",
       "    max-height: 300px;\n",
       "    overflow: auto;\n",
       "  }\n",
       "  table, th, td {\n",
       "    border: 1px solid black;\n",
       "    border-collapse: collapse;\n",
       "  }\n",
       "  th, td {\n",
       "    padding: 5px;\n",
       "  }\n",
       "  th {\n",
       "    text-align: left;\n",
       "  }\n",
       "</style><div class='table-result-container'><table class='table-result'><thead style='background-color: white'><tr><th>path</th><th>name</th><th>size</th><th>modificationTime</th></tr></thead><tbody><tr><td>dbfs:/databricks-datasets/sfo_customer_survey/2013_SFO_Customer_Survey.csv</td><td>2013_SFO_Customer_Survey.csv</td><td>566561</td><td>1467995346000</td></tr></tbody></table></div>"
      ]
     },
     "metadata": {
      "application/vnd.databricks.v1+output": {
       "addedWidgets": {},
       "aggData": [],
       "aggError": "",
       "aggOverflow": false,
       "aggSchema": [],
       "aggSeriesLimitReached": false,
       "aggType": "",
       "arguments": {},
       "columnCustomDisplayInfos": {},
       "data": [
        [
         "dbfs:/databricks-datasets/sfo_customer_survey/2013_SFO_Customer_Survey.csv",
         "2013_SFO_Customer_Survey.csv",
         566561,
         1467995346000
        ]
       ],
       "datasetInfos": [],
       "dbfsResultPath": null,
       "isJsonSchema": true,
       "metadata": {},
       "overflow": false,
       "plotOptions": {
        "customPlotOptions": {},
        "displayType": "table",
        "pivotAggregation": null,
        "pivotColumns": null,
        "xColumns": null,
        "yColumns": null
       },
       "removedWidgets": [],
       "schema": [
        {
         "metadata": "{}",
         "name": "path",
         "type": "\"string\""
        },
        {
         "metadata": "{}",
         "name": "name",
         "type": "\"string\""
        },
        {
         "metadata": "{}",
         "name": "size",
         "type": "\"long\""
        },
        {
         "metadata": "{}",
         "name": "modificationTime",
         "type": "\"long\""
        }
       ],
       "type": "table"
      }
     },
     "output_type": "display_data"
    }
   ],
   "source": [
    "display(dbutils.fs.ls(\"dbfs:/databricks-datasets/sfo_customer_survey/2013_SFO_Customer_Survey.csv\"))"
   ]
  },
  {
   "cell_type": "code",
   "execution_count": 0,
   "metadata": {
    "application/vnd.databricks.v1+cell": {
     "cellMetadata": {
      "byteLimit": 2048000,
      "rowLimit": 10000
     },
     "inputWidgets": {},
     "nuid": "ea77e153-a6e1-4c41-83fb-7491e5688ecc",
     "showTitle": false,
     "tableResultSettingsMap": {},
     "title": ""
    }
   },
   "outputs": [
    {
     "output_type": "stream",
     "name": "stdout",
     "output_type": "stream",
     "text": [
      "+-------+-----+----+-------+----+------+----+------+-------+------+----+-------+--------+-------+-------+-------+-------+-------+-------+-------+-------+--------+--------+--------+--------+--------+--------+------+------+-----+------+------+----------+--------+---+-------+--------+---------+---------+--------+-----------+-----------+-----------+--------+--------+--------+------------+----------+----------+---------+------+------+------+------------+---------------+-----------+-----------+-----------+------------+------+------+------+-------+-------+-------+-------+-----------+--------------+--------------+--------------+------------+-------+-------+-------+---------------+-------------+---------+-------------+------------+-------+-------+-------+----------+----------------+-------+-----------+----+-------+-------+----------+-----------+-----------+-----------+----+--------+\n|RESPNUM|CCGID| RUN|INTDATE|GATE|STRATA|PEAK|METHOD|AIRLINE|FLIGHT|DEST|DESTGEO|DESTMARK|ARRTIME|DEPTIME|Q2PURP1|Q2PURP2|Q2PURP3|Q2PURP4|Q2PURP5|Q2PURP6|Q3GETTO1|Q3GETTO2|Q3GETTO3|Q3GETTO4|Q3GETTO5|Q3GETTO6|Q3PARK|Q4BAGS|Q4BUY|Q4FOOD|Q4WIFI|Q5FLYPERYR|Q6TENURE|SAQ|Q7A_ART|Q7B_FOOD|Q7C_SHOPS|Q7D_SIGNS|Q7E_WALK|Q7F_SCREENS|Q7G_INFOARR|Q7H_INFODEP|Q7I_WIFI|Q7J_ROAD|Q7K_PARK|Q7L_AIRTRAIN|Q7M_LTPARK|Q7N_RENTAL|Q7O_WHOLE|Q8COM1|Q8COM2|Q8COM3|Q9A_CLNBOARD|Q9B_CLNAIRTRAIN|Q9C_CLNRENT|Q9D_CLNFOOD|Q9E_CLNBATH|Q9F_CLNWHOLE|Q9COM1|Q9COM2|Q9COM3|Q10SAFE|Q10COM1|Q10COM2|Q10COM3|Q11A_USEWEB|Q11B_USESFOAPP|Q11C_USEOTHAPP|Q11D_USESOCMED|Q11E_USEWIFI|Q12COM1|Q12COM2|Q12COM3|Q13_WHEREDEPART|Q13_RATEGETTO|Q14A_FIND|Q14B_SECURITY|Q15_PROBLEMS|Q15COM1|Q15COM2|Q15COM3|Q16_REGION|        Q17_CITY|Q17_ZIP|Q17_COUNTRY|HOME|Q18_AGE|Q19_SEX|Q20_INCOME|Q21_HIFLYER|Q22A_USESJC|Q22B_USEOAK|LANG|  WEIGHT|\n+-------+-----+----+-------+----+------+----+------+-------+------+----+-------+--------+-------+-------+-------+-------+-------+-------+-------+-------+--------+--------+--------+--------+--------+--------+------+------+-----+------+------+----------+--------+---+-------+--------+---------+---------+--------+-----------+-----------+-----------+--------+--------+--------+------------+----------+----------+---------+------+------+------+------------+---------------+-----------+-----------+-----------+------------+------+------+------+-------+-------+-------+-------+-----------+--------------+--------------+--------------+------------+-------+-------+-------+---------------+-------------+---------+-------------+------------+-------+-------+-------+----------+----------------+-------+-----------+----+-------+-------+----------+-----------+-----------+-----------+----+--------+\n|      1|    1|1215|      2|  12|     1|   1|     1|     21|  1437|  49|      1|       1|8:34 AM|9:25 AM|      1|      8|   null|   null|   null|   null|       2|      10|    null|    null|    null|    null|  null|     2|    1|     2|     2|         6|     2.0|  1|      3|       4|        3|        3|       3|          3|          3|          3|       3|       3|       3|           3|         3|         3|        3|  null|  null|  null|           3|              3|          3|          3|          4|           4|  null|  null|  null|      5|      1|   null|   null|          2|             2|             2|             2|           2|   null|   null|   null|              5|            3|        3|            3|           2|   null|   null|   null|         1|   SAN FRANCISCO|  94131|         US|   1|      2|      1|         1|          2|          2|          1|   1|0.553675|\n|      2|    2|1215|      2|  12|     1|   1|     1|     21|  1437|  49|      1|       1|8:00 AM|9:25 AM|      1|      8|   null|   null|   null|   null|       2|      10|    null|    null|    null|    null|  null|     2|    2|     2|     2|         6|     4.0|  1|      4|       4|        4|        4|       4|          3|          3|          3|       6|       4|       6|           6|         6|         6|        4|  null|  null|  null|           4|              6|          6|          4|          4|           4|  null|  null|  null|      5|      1|   null|   null|          2|             2|             2|             2|           3|   null|   null|   null|              2|            3|        5|            5|           2|   null|   null|   null|         1|         CONCORD|  94521|         US|   5|      6|      1|         0|          3|          2|          1|   1|0.553675|\n|      3|    3|1215|      2|  12|     1|   1|     1|     21|  1437|  49|      1|       1|7:00 AM|9:25 AM|      1|      8|   null|   null|   null|   null|       2|      10|    null|    null|    null|    null|  null|     2|    2|     2|     2|         4|     4.0|  1|      3|       4|        4|        2|       4|          4|          2|          2|       3|       2|       3|           4|         6|         4|        0|  null|  null|  null|           3|              3|          3|          3|          3|           3|  null|  null|  null|      3|      1|   null|   null|          2|             2|             2|             2|           2|   null|   null|   null|              5|            3|        3|            3|           2|   null|   null|   null|         1|   SAN FRANCISCO|  94134|         US|   1|      4|      2|         2|          3|          2|          2|   1|0.553675|\n|      4|    4|1215|      2|  12|     1|   1|     1|     21|  1437|  49|      1|       1|7:30 AM|9:25 AM|      1|      8|   null|   null|   null|   null|       1|      10|    null|    null|    null|    null|     1|     1|    2|     1|     2|         3|     4.0|  2|      3|       3|        3|        4|       4|          4|          4|          4|       4|       5|       4|           4|         4|         3|        4|  null|  null|  null|           5|              5|          5|          5|          5|           5|  null|  null|  null|      5|   null|   null|   null|          2|             2|             2|             2|           2|   null|   null|   null|              5|            3|        5|            5|           2|   null|   null|   null|         1|            null|   null|         US|  90|      4|      1|         2|          2|          2|          2|   1|0.553675|\n|      5|    5|1215|      2|  12|     1|   1|     1|     21|  1437|  49|      1|       1|6:30 AM|9:25 AM|      1|      8|   null|   null|   null|   null|       8|      10|    null|    null|    null|    null|  null|     2|    1|     1|     1|         2|     3.0|  2|      3|       3|        2|        3|       5|          5|          6|          6|       5|       5|       6|           5|         6|         4|        4|   162|  null|  null|           5|              5|          5|          5|          5|           5|    87|  null|  null|      5|      5|   null|   null|          2|             2|             2|             2|           1|      1|      5|   null|              3|            5|        4|            3|           2|   null|   null|   null|         3|HUNTINGTON BEACH|  92646|         US|  10|      3|      1|         3|          1|          0|          1|   1|0.553675|\n+-------+-----+----+-------+----+------+----+------+-------+------+----+-------+--------+-------+-------+-------+-------+-------+-------+-------+-------+--------+--------+--------+--------+--------+--------+------+------+-----+------+------+----------+--------+---+-------+--------+---------+---------+--------+-----------+-----------+-----------+--------+--------+--------+------------+----------+----------+---------+------+------+------+------------+---------------+-----------+-----------+-----------+------------+------+------+------+-------+-------+-------+-------+-----------+--------------+--------------+--------------+------------+-------+-------+-------+---------------+-------------+---------+-------------+------------+-------+-------+-------+----------+----------------+-------+-----------+----+-------+-------+----------+-----------+-----------+-----------+----+--------+\nonly showing top 5 rows\n\nroot\n |-- RESPNUM: integer (nullable = true)\n |-- CCGID: string (nullable = true)\n |-- RUN: integer (nullable = true)\n |-- INTDATE: integer (nullable = true)\n |-- GATE: integer (nullable = true)\n |-- STRATA: integer (nullable = true)\n |-- PEAK: integer (nullable = true)\n |-- METHOD: integer (nullable = true)\n |-- AIRLINE: integer (nullable = true)\n |-- FLIGHT: integer (nullable = true)\n |-- DEST: integer (nullable = true)\n |-- DESTGEO: integer (nullable = true)\n |-- DESTMARK: integer (nullable = true)\n |-- ARRTIME: string (nullable = true)\n |-- DEPTIME: string (nullable = true)\n |-- Q2PURP1: integer (nullable = true)\n |-- Q2PURP2: integer (nullable = true)\n |-- Q2PURP3: integer (nullable = true)\n |-- Q2PURP4: integer (nullable = true)\n |-- Q2PURP5: integer (nullable = true)\n |-- Q2PURP6: string (nullable = true)\n |-- Q3GETTO1: integer (nullable = true)\n |-- Q3GETTO2: integer (nullable = true)\n |-- Q3GETTO3: integer (nullable = true)\n |-- Q3GETTO4: integer (nullable = true)\n |-- Q3GETTO5: string (nullable = true)\n |-- Q3GETTO6: string (nullable = true)\n |-- Q3PARK: integer (nullable = true)\n |-- Q4BAGS: integer (nullable = true)\n |-- Q4BUY: integer (nullable = true)\n |-- Q4FOOD: integer (nullable = true)\n |-- Q4WIFI: integer (nullable = true)\n |-- Q5FLYPERYR: integer (nullable = true)\n |-- Q6TENURE: double (nullable = true)\n |-- SAQ: integer (nullable = true)\n |-- Q7A_ART: integer (nullable = true)\n |-- Q7B_FOOD: integer (nullable = true)\n |-- Q7C_SHOPS: integer (nullable = true)\n |-- Q7D_SIGNS: integer (nullable = true)\n |-- Q7E_WALK: integer (nullable = true)\n |-- Q7F_SCREENS: integer (nullable = true)\n |-- Q7G_INFOARR: integer (nullable = true)\n |-- Q7H_INFODEP: integer (nullable = true)\n |-- Q7I_WIFI: integer (nullable = true)\n |-- Q7J_ROAD: integer (nullable = true)\n |-- Q7K_PARK: integer (nullable = true)\n |-- Q7L_AIRTRAIN: integer (nullable = true)\n |-- Q7M_LTPARK: integer (nullable = true)\n |-- Q7N_RENTAL: integer (nullable = true)\n |-- Q7O_WHOLE: integer (nullable = true)\n |-- Q8COM1: integer (nullable = true)\n |-- Q8COM2: integer (nullable = true)\n |-- Q8COM3: integer (nullable = true)\n |-- Q9A_CLNBOARD: integer (nullable = true)\n |-- Q9B_CLNAIRTRAIN: integer (nullable = true)\n |-- Q9C_CLNRENT: integer (nullable = true)\n |-- Q9D_CLNFOOD: integer (nullable = true)\n |-- Q9E_CLNBATH: integer (nullable = true)\n |-- Q9F_CLNWHOLE: integer (nullable = true)\n |-- Q9COM1: integer (nullable = true)\n |-- Q9COM2: integer (nullable = true)\n |-- Q9COM3: string (nullable = true)\n |-- Q10SAFE: integer (nullable = true)\n |-- Q10COM1: integer (nullable = true)\n |-- Q10COM2: integer (nullable = true)\n |-- Q10COM3: integer (nullable = true)\n |-- Q11A_USEWEB: integer (nullable = true)\n |-- Q11B_USESFOAPP: integer (nullable = true)\n |-- Q11C_USEOTHAPP: integer (nullable = true)\n |-- Q11D_USESOCMED: integer (nullable = true)\n |-- Q11E_USEWIFI: integer (nullable = true)\n |-- Q12COM1: integer (nullable = true)\n |-- Q12COM2: integer (nullable = true)\n |-- Q12COM3: integer (nullable = true)\n |-- Q13_WHEREDEPART: integer (nullable = true)\n |-- Q13_RATEGETTO: integer (nullable = true)\n |-- Q14A_FIND: integer (nullable = true)\n |-- Q14B_SECURITY: integer (nullable = true)\n |-- Q15_PROBLEMS: integer (nullable = true)\n |-- Q15COM1: integer (nullable = true)\n |-- Q15COM2: integer (nullable = true)\n |-- Q15COM3: string (nullable = true)\n |-- Q16_REGION: integer (nullable = true)\n |-- Q17_CITY: string (nullable = true)\n |-- Q17_ZIP: integer (nullable = true)\n |-- Q17_COUNTRY: string (nullable = true)\n |-- HOME: integer (nullable = true)\n |-- Q18_AGE: integer (nullable = true)\n |-- Q19_SEX: integer (nullable = true)\n |-- Q20_INCOME: integer (nullable = true)\n |-- Q21_HIFLYER: integer (nullable = true)\n |-- Q22A_USESJC: integer (nullable = true)\n |-- Q22B_USEOAK: integer (nullable = true)\n |-- LANG: integer (nullable = true)\n |-- WEIGHT: double (nullable = true)\n\n"
     ]
    }
   ],
   "source": [
    "df = spark.read.option(\"header\", \"true\").option(\"inferSchema\", \"true\") \\\n",
    "    .csv(\"dbfs:/databricks-datasets/sfo_customer_survey/2013_SFO_Customer_Survey.csv\")\n",
    "\n",
    "df.show(5)\n",
    "\n",
    "df.printSchema()\n"
   ]
  },
  {
   "cell_type": "code",
   "execution_count": 0,
   "metadata": {
    "application/vnd.databricks.v1+cell": {
     "cellMetadata": {
      "byteLimit": 2048000,
      "rowLimit": 10000
     },
     "inputWidgets": {},
     "nuid": "2ca01fb3-3b2b-445d-9a58-2739c9695677",
     "showTitle": false,
     "tableResultSettingsMap": {},
     "title": ""
    }
   },
   "outputs": [
    {
     "output_type": "display_data",
     "data": {
      "text/html": [
       "<style scoped>\n",
       "  .table-result-container {\n",
       "    max-height: 300px;\n",
       "    overflow: auto;\n",
       "  }\n",
       "  table, th, td {\n",
       "    border: 1px solid black;\n",
       "    border-collapse: collapse;\n",
       "  }\n",
       "  th, td {\n",
       "    padding: 5px;\n",
       "  }\n",
       "  th {\n",
       "    text-align: left;\n",
       "  }\n",
       "</style><div class='table-result-container'><table class='table-result'><thead style='background-color: white'><tr><th>path</th><th>name</th><th>size</th><th>modificationTime</th></tr></thead><tbody><tr><td>dbfs:/databricks-datasets/learning-spark-v2/sf-airbnb/README-sf-airbnb.md</td><td>README-sf-airbnb.md</td><td>1064</td><td>1575931327000</td></tr><tr><td>dbfs:/databricks-datasets/learning-spark-v2/sf-airbnb/lr-pipeline-model/</td><td>lr-pipeline-model/</td><td>0</td><td>0</td></tr><tr><td>dbfs:/databricks-datasets/learning-spark-v2/sf-airbnb/sf-airbnb-clean-100p.parquet/</td><td>sf-airbnb-clean-100p.parquet/</td><td>0</td><td>0</td></tr><tr><td>dbfs:/databricks-datasets/learning-spark-v2/sf-airbnb/sf-airbnb-clean.parquet/</td><td>sf-airbnb-clean.parquet/</td><td>0</td><td>0</td></tr><tr><td>dbfs:/databricks-datasets/learning-spark-v2/sf-airbnb/sf-airbnb-numeric.csv</td><td>sf-airbnb-numeric.csv</td><td>554979</td><td>1588481870000</td></tr><tr><td>dbfs:/databricks-datasets/learning-spark-v2/sf-airbnb/sf-airbnb.csv</td><td>sf-airbnb.csv</td><td>34234636</td><td>1575931330000</td></tr></tbody></table></div>"
      ]
     },
     "metadata": {
      "application/vnd.databricks.v1+output": {
       "addedWidgets": {},
       "aggData": [],
       "aggError": "",
       "aggOverflow": false,
       "aggSchema": [],
       "aggSeriesLimitReached": false,
       "aggType": "",
       "arguments": {},
       "columnCustomDisplayInfos": {},
       "data": [
        [
         "dbfs:/databricks-datasets/learning-spark-v2/sf-airbnb/README-sf-airbnb.md",
         "README-sf-airbnb.md",
         1064,
         1575931327000
        ],
        [
         "dbfs:/databricks-datasets/learning-spark-v2/sf-airbnb/lr-pipeline-model/",
         "lr-pipeline-model/",
         0,
         0
        ],
        [
         "dbfs:/databricks-datasets/learning-spark-v2/sf-airbnb/sf-airbnb-clean-100p.parquet/",
         "sf-airbnb-clean-100p.parquet/",
         0,
         0
        ],
        [
         "dbfs:/databricks-datasets/learning-spark-v2/sf-airbnb/sf-airbnb-clean.parquet/",
         "sf-airbnb-clean.parquet/",
         0,
         0
        ],
        [
         "dbfs:/databricks-datasets/learning-spark-v2/sf-airbnb/sf-airbnb-numeric.csv",
         "sf-airbnb-numeric.csv",
         554979,
         1588481870000
        ],
        [
         "dbfs:/databricks-datasets/learning-spark-v2/sf-airbnb/sf-airbnb.csv",
         "sf-airbnb.csv",
         34234636,
         1575931330000
        ]
       ],
       "datasetInfos": [],
       "dbfsResultPath": null,
       "isJsonSchema": true,
       "metadata": {},
       "overflow": false,
       "plotOptions": {
        "customPlotOptions": {},
        "displayType": "table",
        "pivotAggregation": null,
        "pivotColumns": null,
        "xColumns": null,
        "yColumns": null
       },
       "removedWidgets": [],
       "schema": [
        {
         "metadata": "{}",
         "name": "path",
         "type": "\"string\""
        },
        {
         "metadata": "{}",
         "name": "name",
         "type": "\"string\""
        },
        {
         "metadata": "{}",
         "name": "size",
         "type": "\"long\""
        },
        {
         "metadata": "{}",
         "name": "modificationTime",
         "type": "\"long\""
        }
       ],
       "type": "table"
      }
     },
     "output_type": "display_data"
    }
   ],
   "source": [
    "display(dbutils.fs.ls(\"/databricks-datasets/learning-spark-v2/sf-airbnb/\"))"
   ]
  },
  {
   "cell_type": "code",
   "execution_count": 0,
   "metadata": {
    "application/vnd.databricks.v1+cell": {
     "cellMetadata": {
      "byteLimit": 2048000,
      "rowLimit": 10000
     },
     "inputWidgets": {},
     "nuid": "b4ef3821-2577-42be-9b0f-6549c5f82af6",
     "showTitle": false,
     "tableResultSettingsMap": {},
     "title": ""
    }
   },
   "outputs": [
    {
     "output_type": "stream",
     "name": "stdout",
     "output_type": "stream",
     "text": [
      "+----------+------------------+\n|Q16_REGION|       region_name|\n+----------+------------------+\n|         0|           Unknown|\n|         1|     San Francisco|\n|         2|          Bay Area|\n|         3|California (Other)|\n+----------+------------------+\n\n"
     ]
    }
   ],
   "source": [
    "from pyspark.sql.functions import when\n",
    "\n",
    "df = df.withColumn(\"region_name\", \n",
    "    when(df[\"Q16_REGION\"] == 1, \"San Francisco\")\n",
    "    .when(df[\"Q16_REGION\"] == 2, \"Bay Area\")\n",
    "    .when(df[\"Q16_REGION\"] == 3, \"California (Other)\")\n",
    "    .when(df[\"Q16_REGION\"] == 4, \"Other US\")\n",
    "    .when(df[\"Q16_REGION\"] == 5, \"International\")\n",
    "    .otherwise(\"Unknown\")\n",
    ")\n",
    "\n",
    "df.select(\"Q16_REGION\", \"region_name\").distinct().orderBy(\"Q16_REGION\").show()"
   ]
  },
  {
   "cell_type": "code",
   "execution_count": 0,
   "metadata": {
    "application/vnd.databricks.v1+cell": {
     "cellMetadata": {
      "byteLimit": 2048000,
      "rowLimit": 10000
     },
     "inputWidgets": {},
     "nuid": "bc5b5ec1-b9f9-41d7-bdba-67d2ef06169d",
     "showTitle": false,
     "tableResultSettingsMap": {},
     "title": ""
    }
   },
   "outputs": [],
   "source": [
    "from pyspark.sql.functions import when\n",
    "\n",
    "df = df \\\n",
    "    .withColumn(\"sexo\",\n",
    "        when(df[\"Q19_SEX\"] == 1, \"Masculino\")\n",
    "        .when(df[\"Q19_SEX\"] == 2, \"Feminino\")\n",
    "        .otherwise(\"Não informado\")\n",
    "    ) \\\n",
    "    .withColumn(\"renda\",\n",
    "        when(df[\"Q20_INCOME\"] == 1, \"Menos de $15.000\")\n",
    "        .when(df[\"Q20_INCOME\"] == 2, \"$15.000 – $24.999\")\n",
    "        .when(df[\"Q20_INCOME\"] == 3, \"$25.000 – $34.999\")\n",
    "        .when(df[\"Q20_INCOME\"] == 4, \"$35.000 – $49.999\")\n",
    "        .when(df[\"Q20_INCOME\"] == 5, \"$50.000 – $74.999\")\n",
    "        .when(df[\"Q20_INCOME\"] == 6, \"$75.000 – $99.999\")\n",
    "        .when(df[\"Q20_INCOME\"] == 7, \"$100.000 – $149.999\")\n",
    "        .when(df[\"Q20_INCOME\"] == 8, \"$150.000 – $199.999\")\n",
    "        .when(df[\"Q20_INCOME\"] == 9, \"$200.000 ou mais\")\n",
    "        .otherwise(\"Não informado\")\n",
    "    ) \\\n",
    "    .withColumn(\"hiflyer\",\n",
    "        when(df[\"Q21_HIFLYER\"] == 1, \"Não frequente\")\n",
    "        .when(df[\"Q21_HIFLYER\"] == 2, \"Frequente\")\n",
    "        .otherwise(\"Não informado\")\n",
    "    )"
   ]
  },
  {
   "cell_type": "code",
   "execution_count": 0,
   "metadata": {
    "application/vnd.databricks.v1+cell": {
     "cellMetadata": {
      "byteLimit": 2048000,
      "rowLimit": 10000
     },
     "inputWidgets": {},
     "nuid": "b4af5b37-e6de-4ccf-a137-58a6292411a1",
     "showTitle": false,
     "tableResultSettingsMap": {},
     "title": ""
    }
   },
   "outputs": [
    {
     "output_type": "stream",
     "name": "stdout",
     "output_type": "stream",
     "text": [
      "+-------+---------+----------+-----------------+-----------+-------------+\n|Q19_SEX|     sexo|Q20_INCOME|            renda|Q21_HIFLYER|      hiflyer|\n+-------+---------+----------+-----------------+-----------+-------------+\n|      1|Masculino|         1| Menos de $15.000|          2|    Frequente|\n|      1|Masculino|         0|    Não informado|          3|Não informado|\n|      2| Feminino|         2|$15.000 – $24.999|          3|Não informado|\n|      1|Masculino|         2|$15.000 – $24.999|          2|    Frequente|\n|      1|Masculino|         3|$25.000 – $34.999|          1|Não frequente|\n|      1|Masculino|         4|$35.000 – $49.999|          2|    Frequente|\n|      1|Masculino|         1| Menos de $15.000|          2|    Frequente|\n|      2| Feminino|         5|$50.000 – $74.999|          3|Não informado|\n|      1|Masculino|         5|$50.000 – $74.999|          2|    Frequente|\n|      2| Feminino|         2|$15.000 – $24.999|          3|Não informado|\n+-------+---------+----------+-----------------+-----------+-------------+\nonly showing top 10 rows\n\n"
     ]
    }
   ],
   "source": [
    "df.select(\"Q19_SEX\", \"sexo\", \"Q20_INCOME\", \"renda\", \"Q21_HIFLYER\", \"hiflyer\").show(10)"
   ]
  },
  {
   "cell_type": "code",
   "execution_count": 0,
   "metadata": {
    "application/vnd.databricks.v1+cell": {
     "cellMetadata": {
      "byteLimit": 2048000,
      "rowLimit": 10000
     },
     "inputWidgets": {},
     "nuid": "7fba5c3d-41e6-44c3-936a-dd72cfe9f0ac",
     "showTitle": false,
     "tableResultSettingsMap": {},
     "title": ""
    }
   },
   "outputs": [
    {
     "output_type": "stream",
     "name": "stdout",
     "output_type": "stream",
     "text": [
      "+-------------+-----+\n|         sexo|count|\n+-------------+-----+\n|     Feminino| 1289|\n|    Masculino| 1215|\n|Não informado|  127|\n+-------------+-----+\n\n"
     ]
    }
   ],
   "source": [
    "df.groupBy(\"sexo\").count().orderBy(\"count\", ascending=False).show()"
   ]
  },
  {
   "cell_type": "code",
   "execution_count": 0,
   "metadata": {
    "application/vnd.databricks.v1+cell": {
     "cellMetadata": {
      "byteLimit": 2048000,
      "rowLimit": 10000
     },
     "inputWidgets": {},
     "nuid": "890d8afe-fd75-4d29-8aff-4aed0e02943f",
     "showTitle": false,
     "tableResultSettingsMap": {},
     "title": ""
    }
   },
   "outputs": [
    {
     "output_type": "stream",
     "name": "stdout",
     "output_type": "stream",
     "text": [
      "+----------+------------------+\n|Q16_REGION|           avg_age|\n+----------+------------------+\n|         2| 4.776859504132231|\n|         1| 4.421818181818182|\n|         3|  4.33679706601467|\n|         0|1.0204081632653061|\n+----------+------------------+\n\n"
     ]
    }
   ],
   "source": [
    "from pyspark.sql.functions import avg\n",
    "\n",
    "df.groupBy(\"Q16_REGION\").agg(avg(\"Q18_AGE\").alias(\"avg_age\")).orderBy(\"avg_age\", ascending=False).show()"
   ]
  },
  {
   "cell_type": "code",
   "execution_count": 0,
   "metadata": {
    "application/vnd.databricks.v1+cell": {
     "cellMetadata": {
      "byteLimit": 2048000,
      "rowLimit": 10000
     },
     "inputWidgets": {},
     "nuid": "8d8636df-583a-4ac1-a2d6-6fac70af91a5",
     "showTitle": false,
     "tableResultSettingsMap": {},
     "title": ""
    }
   },
   "outputs": [
    {
     "output_type": "stream",
     "name": "stdout",
     "output_type": "stream",
     "text": [
      "+----------+------------------+\n|Q16_REGION|       avg_flights|\n+----------+------------------+\n|         1|2.8812121212121213|\n|         0| 2.020408163265306|\n|         2|1.9669421487603307|\n|         3|1.7573349633251834|\n+----------+------------------+\n\n"
     ]
    }
   ],
   "source": [
    "df.groupBy(\"Q16_REGION\").agg(avg(\"Q5FLYPERYR\").alias(\"avg_flights\")).orderBy(\"avg_flights\", ascending=False).show()"
   ]
  },
  {
   "cell_type": "code",
   "execution_count": 0,
   "metadata": {
    "application/vnd.databricks.v1+cell": {
     "cellMetadata": {
      "byteLimit": 2048000,
      "rowLimit": 10000
     },
     "inputWidgets": {},
     "nuid": "79e7a256-2c3c-43b4-9354-f94045bc7c0a",
     "showTitle": false,
     "tableResultSettingsMap": {},
     "title": ""
    }
   },
   "outputs": [
    {
     "output_type": "stream",
     "name": "stdout",
     "output_type": "stream",
     "text": [
      "+------------+-----+\n|Q9F_CLNWHOLE|count|\n+------------+-----+\n|           0|   60|\n|           1|    3|\n|           2|   17|\n|           3|  394|\n|           4| 1195|\n|           5|  939|\n|           6|   23|\n+------------+-----+\n\n"
     ]
    }
   ],
   "source": [
    "df.groupBy(\"Q9F_CLNWHOLE\").count().orderBy(\"Q9F_CLNWHOLE\").show()"
   ]
  },
  {
   "cell_type": "code",
   "execution_count": 0,
   "metadata": {
    "application/vnd.databricks.v1+cell": {
     "cellMetadata": {
      "byteLimit": 2048000,
      "rowLimit": 10000
     },
     "inputWidgets": {},
     "nuid": "9e11cce9-d866-4287-b5a1-3fdc5c8ecc92",
     "showTitle": false,
     "tableResultSettingsMap": {},
     "title": ""
    }
   },
   "outputs": [
    {
     "output_type": "stream",
     "name": "stdout",
     "output_type": "stream",
     "text": [
      "+-----+\n|count|\n+-----+\n| 2631|\n+-----+\n\n"
     ]
    }
   ],
   "source": [
    "df.groupBy().count().show()"
   ]
  },
  {
   "cell_type": "code",
   "execution_count": 0,
   "metadata": {
    "application/vnd.databricks.v1+cell": {
     "cellMetadata": {
      "byteLimit": 2048000,
      "rowLimit": 10000
     },
     "inputWidgets": {},
     "nuid": "0f647d0b-e4a0-487a-8f58-5ee0a3a463a7",
     "showTitle": false,
     "tableResultSettingsMap": {},
     "title": ""
    }
   },
   "outputs": [
    {
     "output_type": "display_data",
     "data": {
      "text/html": [
       "<style scoped>\n",
       "  .table-result-container {\n",
       "    max-height: 300px;\n",
       "    overflow: auto;\n",
       "  }\n",
       "  table, th, td {\n",
       "    border: 1px solid black;\n",
       "    border-collapse: collapse;\n",
       "  }\n",
       "  th, td {\n",
       "    padding: 5px;\n",
       "  }\n",
       "  th {\n",
       "    text-align: left;\n",
       "  }\n",
       "</style><div class='table-result-container'><table class='table-result'><thead style='background-color: white'><tr><th>sexo</th><th>count</th></tr></thead><tbody><tr><td>Não informado</td><td>127</td></tr><tr><td>Feminino</td><td>1289</td></tr><tr><td>Masculino</td><td>1215</td></tr></tbody></table></div>"
      ]
     },
     "metadata": {
      "application/vnd.databricks.v1+output": {
       "addedWidgets": {},
       "aggData": [],
       "aggError": "",
       "aggOverflow": false,
       "aggSchema": [],
       "aggSeriesLimitReached": false,
       "aggType": "",
       "arguments": {},
       "columnCustomDisplayInfos": {},
       "data": [
        [
         "Não informado",
         127
        ],
        [
         "Feminino",
         1289
        ],
        [
         "Masculino",
         1215
        ]
       ],
       "datasetInfos": [],
       "dbfsResultPath": null,
       "isJsonSchema": true,
       "metadata": {},
       "overflow": false,
       "plotOptions": {
        "customPlotOptions": {},
        "displayType": "table",
        "pivotAggregation": null,
        "pivotColumns": null,
        "xColumns": null,
        "yColumns": null
       },
       "removedWidgets": [],
       "schema": [
        {
         "metadata": "{}",
         "name": "sexo",
         "type": "\"string\""
        },
        {
         "metadata": "{}",
         "name": "count",
         "type": "\"long\""
        }
       ],
       "type": "table"
      }
     },
     "output_type": "display_data"
    },
    {
     "output_type": "display_data",
     "data": {
      "text/plain": [
       "Databricks visualization. Run in Databricks to view."
      ]
     },
     "metadata": {
      "application/vnd.databricks.v1.subcommand+json": {
       "baseErrorDetails": null,
       "bindings": {},
       "collapsed": false,
       "command": "%python\n__backend_agg_display_orig = display\n__backend_agg_dfs = []\ndef __backend_agg_display_new(df):\n    __backend_agg_df_modules = [\"pandas.core.frame\", \"databricks.koalas.frame\", \"pyspark.sql.dataframe\", \"pyspark.pandas.frame\", \"pyspark.sql.connect.dataframe\"]\n    if (type(df).__module__ in __backend_agg_df_modules and type(df).__name__ == 'DataFrame') or isinstance(df, list):\n        __backend_agg_dfs.append(df)\n\ndisplay = __backend_agg_display_new\n\ndef __backend_agg_user_code_fn():\n    import base64\n    exec(base64.standard_b64decode(\"c2V4b19kZiA9IGRmLmdyb3VwQnkoInNleG8iKS5jb3VudCgpCmRpc3BsYXkoc2V4b19kZik=\").decode())\n\ntry:\n    # run user code\n    __backend_agg_user_code_fn()\n\n    #reset display function\n    display = __backend_agg_display_orig\n\n    if len(__backend_agg_dfs) > 0:\n        # create a temp view\n        if type(__backend_agg_dfs[0]).__module__ == \"databricks.koalas.frame\":\n            # koalas dataframe\n            __backend_agg_dfs[0].to_spark().createOrReplaceTempView(\"DatabricksView9b8fa3a\")\n        elif type(__backend_agg_dfs[0]).__module__ == \"pandas.core.frame\" or isinstance(__backend_agg_dfs[0], list):\n            # pandas dataframe\n            spark.createDataFrame(__backend_agg_dfs[0]).createOrReplaceTempView(\"DatabricksView9b8fa3a\")\n        else:\n            __backend_agg_dfs[0].createOrReplaceTempView(\"DatabricksView9b8fa3a\")\n        #run backend agg\n        display(spark.sql(\"\"\"WITH q AS (select * from DatabricksView9b8fa3a) SELECT `sexo`,SUM(`count`) `column_72ade36329` FROM q GROUP BY `sexo`\"\"\"))\n    else:\n        displayHTML(\"dataframe no longer exists. If you're using dataframe.display(), use display(dataframe) instead.\")\n\n\nfinally:\n    spark.sql(\"drop view if exists DatabricksView9b8fa3a\")\n    display = __backend_agg_display_orig\n    del __backend_agg_display_new\n    del __backend_agg_display_orig\n    del __backend_agg_dfs\n    del __backend_agg_user_code_fn\n\n",
       "commandTitle": "Visualization 1",
       "commandType": "auto",
       "commandVersion": 0,
       "commentThread": [],
       "commentsVisible": false,
       "contentSha256Hex": null,
       "customPlotOptions": {
        "redashChart": [
         {
          "key": "type",
          "value": "CHART"
         },
         {
          "key": "options",
          "value": {
           "alignYAxesAtZero": true,
           "coefficient": 1,
           "columnConfigurationMap": {
            "x": {
             "column": "sexo",
             "id": "column_72ade36328"
            },
            "y": [
             {
              "column": "count",
              "id": "column_72ade36329",
              "transform": "SUM"
             }
            ]
           },
           "dateTimeFormat": "DD/MM/YYYY HH:mm",
           "direction": {
            "type": "counterclockwise"
           },
           "error_y": {
            "type": "data",
            "visible": true
           },
           "globalSeriesType": "pie",
           "legend": {
            "traceorder": "normal"
           },
           "missingValuesAsZero": true,
           "numberFormat": "0,0.[00000]",
           "percentFormat": "0[.]00%",
           "series": {
            "error_y": {
             "type": "data",
             "visible": true
            },
            "stacking": null
           },
           "seriesOptions": {
            "column_72ade36329": {
             "name": "count",
             "type": "pie",
             "yAxis": 0
            }
           },
           "showDataLabels": true,
           "sizemode": "diameter",
           "sortX": true,
           "sortY": true,
           "swappedAxes": false,
           "textFormat": "",
           "useAggregationsUi": true,
           "valuesOptions": {},
           "version": 2,
           "xAxis": {
            "labels": {
             "enabled": true
            },
            "type": "-"
           },
           "yAxis": [
            {
             "type": "-"
            },
            {
             "opposite": true,
             "type": "-"
            }
           ]
          }
         }
        ]
       },
       "datasetPreviewNameToCmdIdMap": {},
       "diffDeletes": [],
       "diffInserts": [],
       "displayType": "redashChart",
       "error": null,
       "errorDetails": null,
       "errorSummary": null,
       "errorTraceType": null,
       "finishTime": 0,
       "globalVars": {},
       "guid": "",
       "height": "auto",
       "hideCommandCode": false,
       "hideCommandResult": false,
       "iPythonMetadata": null,
       "inputWidgets": {},
       "isLockedInExamMode": false,
       "latestUser": "a user",
       "latestUserId": null,
       "listResultMetadata": null,
       "metadata": {},
       "nuid": "1a4be4fc-ef31-4d25-8c6e-a96fda500107",
       "origId": 0,
       "parentHierarchy": [],
       "pivotAggregation": null,
       "pivotColumns": null,
       "position": 109.0,
       "resultDbfsErrorMessage": null,
       "resultDbfsStatus": "INLINED_IN_TREE",
       "results": null,
       "showCommandTitle": false,
       "startTime": 0,
       "state": "input",
       "streamStates": {},
       "subcommandOptions": {
        "queryPlan": {
         "groups": [
          {
           "column": "sexo",
           "type": "column"
          }
         ],
         "selects": [
          {
           "column": "sexo",
           "type": "column"
          },
          {
           "alias": "column_72ade36329",
           "args": [
            {
             "column": "count",
             "type": "column"
            }
           ],
           "function": "SUM",
           "type": "function"
          }
         ]
        }
       },
       "submitTime": 0,
       "subtype": "tableResultSubCmd.visualization",
       "tableResultIndex": 0,
       "tableResultSettingsMap": {},
       "useConsistentColors": false,
       "version": "CommandV1",
       "width": "auto",
       "workflows": [],
       "xColumns": null,
       "yColumns": null
      }
     },
     "output_type": "display_data"
    }
   ],
   "source": [
    "sexo_df = df.groupBy(\"sexo\").count()\n",
    "display(sexo_df)"
   ]
  },
  {
   "cell_type": "code",
   "execution_count": 0,
   "metadata": {
    "application/vnd.databricks.v1+cell": {
     "cellMetadata": {
      "byteLimit": 2048000,
      "rowLimit": 10000
     },
     "inputWidgets": {},
     "nuid": "add267bc-5734-4f41-a337-3e72bcddb25f",
     "showTitle": false,
     "tableResultSettingsMap": {},
     "title": ""
    }
   },
   "outputs": [
    {
     "output_type": "display_data",
     "data": {
      "text/html": [
       "<style scoped>\n",
       "  .table-result-container {\n",
       "    max-height: 300px;\n",
       "    overflow: auto;\n",
       "  }\n",
       "  table, th, td {\n",
       "    border: 1px solid black;\n",
       "    border-collapse: collapse;\n",
       "  }\n",
       "  th, td {\n",
       "    padding: 5px;\n",
       "  }\n",
       "  th {\n",
       "    text-align: left;\n",
       "  }\n",
       "</style><div class='table-result-container'><table class='table-result'><thead style='background-color: white'><tr><th>renda</th><th>count</th></tr></thead><tbody><tr><td>$15.000 – $24.999</td><td>624</td></tr><tr><td>Não informado</td><td>583</td></tr><tr><td>$35.000 – $49.999</td><td>501</td></tr><tr><td>Menos de $15.000</td><td>426</td></tr><tr><td>$25.000 – $34.999</td><td>425</td></tr><tr><td>$50.000 – $74.999</td><td>72</td></tr></tbody></table></div>"
      ]
     },
     "metadata": {
      "application/vnd.databricks.v1+output": {
       "addedWidgets": {},
       "aggData": [],
       "aggError": "",
       "aggOverflow": false,
       "aggSchema": [],
       "aggSeriesLimitReached": false,
       "aggType": "",
       "arguments": {},
       "columnCustomDisplayInfos": {},
       "data": [
        [
         "$15.000 – $24.999",
         624
        ],
        [
         "Não informado",
         583
        ],
        [
         "$35.000 – $49.999",
         501
        ],
        [
         "Menos de $15.000",
         426
        ],
        [
         "$25.000 – $34.999",
         425
        ],
        [
         "$50.000 – $74.999",
         72
        ]
       ],
       "datasetInfos": [],
       "dbfsResultPath": null,
       "isJsonSchema": true,
       "metadata": {},
       "overflow": false,
       "plotOptions": {
        "customPlotOptions": {},
        "displayType": "table",
        "pivotAggregation": null,
        "pivotColumns": null,
        "xColumns": null,
        "yColumns": null
       },
       "removedWidgets": [],
       "schema": [
        {
         "metadata": "{}",
         "name": "renda",
         "type": "\"string\""
        },
        {
         "metadata": "{}",
         "name": "count",
         "type": "\"long\""
        }
       ],
       "type": "table"
      }
     },
     "output_type": "display_data"
    },
    {
     "output_type": "display_data",
     "data": {
      "text/plain": [
       "Databricks visualization. Run in Databricks to view."
      ]
     },
     "metadata": {
      "application/vnd.databricks.v1.subcommand+json": {
       "baseErrorDetails": null,
       "bindings": {},
       "collapsed": false,
       "command": "%python\n__backend_agg_display_orig = display\n__backend_agg_dfs = []\ndef __backend_agg_display_new(df):\n    __backend_agg_df_modules = [\"pandas.core.frame\", \"databricks.koalas.frame\", \"pyspark.sql.dataframe\", \"pyspark.pandas.frame\", \"pyspark.sql.connect.dataframe\"]\n    if (type(df).__module__ in __backend_agg_df_modules and type(df).__name__ == 'DataFrame') or isinstance(df, list):\n        __backend_agg_dfs.append(df)\n\ndisplay = __backend_agg_display_new\n\ndef __backend_agg_user_code_fn():\n    import base64\n    exec(base64.standard_b64decode(\"cmVuZGFfZGYgPSBkZi5ncm91cEJ5KCJyZW5kYSIpLmNvdW50KCkub3JkZXJCeSgiY291bnQiLCBhc2NlbmRpbmc9RmFsc2UpCmRpc3BsYXkocmVuZGFfZGYp\").decode())\n\ntry:\n    # run user code\n    __backend_agg_user_code_fn()\n\n    #reset display function\n    display = __backend_agg_display_orig\n\n    if len(__backend_agg_dfs) > 0:\n        # create a temp view\n        if type(__backend_agg_dfs[0]).__module__ == \"databricks.koalas.frame\":\n            # koalas dataframe\n            __backend_agg_dfs[0].to_spark().createOrReplaceTempView(\"DatabricksView3310420\")\n        elif type(__backend_agg_dfs[0]).__module__ == \"pandas.core.frame\" or isinstance(__backend_agg_dfs[0], list):\n            # pandas dataframe\n            spark.createDataFrame(__backend_agg_dfs[0]).createOrReplaceTempView(\"DatabricksView3310420\")\n        else:\n            __backend_agg_dfs[0].createOrReplaceTempView(\"DatabricksView3310420\")\n        #run backend agg\n        display(spark.sql(\"\"\"WITH q AS (select * from DatabricksView3310420) SELECT `renda`,SUM(`count`) `column_72ade36333` FROM q GROUP BY `renda`\"\"\"))\n    else:\n        displayHTML(\"dataframe no longer exists. If you're using dataframe.display(), use display(dataframe) instead.\")\n\n\nfinally:\n    spark.sql(\"drop view if exists DatabricksView3310420\")\n    display = __backend_agg_display_orig\n    del __backend_agg_display_new\n    del __backend_agg_display_orig\n    del __backend_agg_dfs\n    del __backend_agg_user_code_fn\n\n",
       "commandTitle": "Visualization 1",
       "commandType": "auto",
       "commandVersion": 0,
       "commentThread": [],
       "commentsVisible": false,
       "contentSha256Hex": null,
       "customPlotOptions": {
        "redashChart": [
         {
          "key": "type",
          "value": "CHART"
         },
         {
          "key": "options",
          "value": {
           "alignYAxesAtZero": true,
           "coefficient": 1,
           "columnConfigurationMap": {
            "x": {
             "column": "renda",
             "id": "column_72ade36332"
            },
            "y": [
             {
              "column": "count",
              "id": "column_72ade36333",
              "transform": "SUM"
             }
            ]
           },
           "dateTimeFormat": "DD/MM/YYYY HH:mm",
           "direction": {
            "type": "counterclockwise"
           },
           "error_y": {
            "type": "data",
            "visible": true
           },
           "globalSeriesType": "column",
           "legend": {
            "traceorder": "normal"
           },
           "missingValuesAsZero": true,
           "numberFormat": "0,0.[00000]",
           "percentFormat": "0[.]00%",
           "series": {
            "error_y": {
             "type": "data",
             "visible": true
            },
            "stacking": null
           },
           "seriesOptions": {
            "column_72ade36333": {
             "name": "count",
             "yAxis": 0
            }
           },
           "showDataLabels": false,
           "sizemode": "diameter",
           "sortX": true,
           "sortY": true,
           "swappedAxes": true,
           "textFormat": "",
           "useAggregationsUi": true,
           "valuesOptions": {},
           "version": 2,
           "xAxis": {
            "labels": {
             "enabled": true
            },
            "type": "-"
           },
           "yAxis": [
            {
             "type": "-"
            },
            {
             "opposite": true,
             "type": "-"
            }
           ]
          }
         }
        ]
       },
       "datasetPreviewNameToCmdIdMap": {},
       "diffDeletes": [],
       "diffInserts": [],
       "displayType": "redashChart",
       "error": null,
       "errorDetails": null,
       "errorSummary": null,
       "errorTraceType": null,
       "finishTime": 0,
       "globalVars": {},
       "guid": "",
       "height": "auto",
       "hideCommandCode": false,
       "hideCommandResult": false,
       "iPythonMetadata": null,
       "inputWidgets": {},
       "isLockedInExamMode": false,
       "latestUser": "a user",
       "latestUserId": null,
       "listResultMetadata": null,
       "metadata": {},
       "nuid": "b61faa70-b721-45e4-8b33-7634966d4425",
       "origId": 0,
       "parentHierarchy": [],
       "pivotAggregation": null,
       "pivotColumns": null,
       "position": 110.0,
       "resultDbfsErrorMessage": null,
       "resultDbfsStatus": "INLINED_IN_TREE",
       "results": null,
       "showCommandTitle": false,
       "startTime": 0,
       "state": "input",
       "streamStates": {},
       "subcommandOptions": {
        "queryPlan": {
         "groups": [
          {
           "column": "renda",
           "type": "column"
          }
         ],
         "selects": [
          {
           "column": "renda",
           "type": "column"
          },
          {
           "alias": "column_72ade36333",
           "args": [
            {
             "column": "count",
             "type": "column"
            }
           ],
           "function": "SUM",
           "type": "function"
          }
         ]
        }
       },
       "submitTime": 0,
       "subtype": "tableResultSubCmd.visualization",
       "tableResultIndex": 0,
       "tableResultSettingsMap": {},
       "useConsistentColors": false,
       "version": "CommandV1",
       "width": "auto",
       "workflows": [],
       "xColumns": null,
       "yColumns": null
      }
     },
     "output_type": "display_data"
    }
   ],
   "source": [
    "renda_df = df.groupBy(\"renda\").count().orderBy(\"count\", ascending=False)\n",
    "display(renda_df)"
   ]
  },
  {
   "cell_type": "code",
   "execution_count": 0,
   "metadata": {
    "application/vnd.databricks.v1+cell": {
     "cellMetadata": {
      "byteLimit": 2048000,
      "rowLimit": 10000
     },
     "inputWidgets": {},
     "nuid": "31f3d065-5241-4b7d-b567-ac1efe2efd23",
     "showTitle": false,
     "tableResultSettingsMap": {},
     "title": ""
    }
   },
   "outputs": [
    {
     "output_type": "display_data",
     "data": {
      "text/html": [
       "<style scoped>\n",
       "  .table-result-container {\n",
       "    max-height: 300px;\n",
       "    overflow: auto;\n",
       "  }\n",
       "  table, th, td {\n",
       "    border: 1px solid black;\n",
       "    border-collapse: collapse;\n",
       "  }\n",
       "  th, td {\n",
       "    padding: 5px;\n",
       "  }\n",
       "  th {\n",
       "    text-align: left;\n",
       "  }\n",
       "</style><div class='table-result-container'><table class='table-result'><thead style='background-color: white'><tr><th>region_name</th><th>media_voos</th></tr></thead><tbody><tr><td>San Francisco</td><td>2.8812121212121213</td></tr><tr><td>Unknown</td><td>2.020408163265306</td></tr><tr><td>Bay Area</td><td>1.9669421487603307</td></tr><tr><td>California (Other)</td><td>1.7573349633251834</td></tr></tbody></table></div>"
      ]
     },
     "metadata": {
      "application/vnd.databricks.v1+output": {
       "addedWidgets": {},
       "aggData": [],
       "aggError": "",
       "aggOverflow": false,
       "aggSchema": [],
       "aggSeriesLimitReached": false,
       "aggType": "",
       "arguments": {},
       "columnCustomDisplayInfos": {},
       "data": [
        [
         "San Francisco",
         2.8812121212121213
        ],
        [
         "Unknown",
         2.020408163265306
        ],
        [
         "Bay Area",
         1.9669421487603307
        ],
        [
         "California (Other)",
         1.7573349633251834
        ]
       ],
       "datasetInfos": [],
       "dbfsResultPath": null,
       "isJsonSchema": true,
       "metadata": {},
       "overflow": false,
       "plotOptions": {
        "customPlotOptions": {},
        "displayType": "table",
        "pivotAggregation": null,
        "pivotColumns": null,
        "xColumns": null,
        "yColumns": null
       },
       "removedWidgets": [],
       "schema": [
        {
         "metadata": "{}",
         "name": "region_name",
         "type": "\"string\""
        },
        {
         "metadata": "{}",
         "name": "media_voos",
         "type": "\"double\""
        }
       ],
       "type": "table"
      }
     },
     "output_type": "display_data"
    }
   ],
   "source": [
    "regiao_df = df.groupBy(\"region_name\").agg({\"Q5FLYPERYR\": \"avg\"}).withColumnRenamed(\"avg(Q5FLYPERYR)\", \"media_voos\")\n",
    "display(regiao_df)"
   ]
  },
  {
   "cell_type": "code",
   "execution_count": 0,
   "metadata": {
    "application/vnd.databricks.v1+cell": {
     "cellMetadata": {
      "byteLimit": 2048000,
      "rowLimit": 10000
     },
     "inputWidgets": {},
     "nuid": "3807ee23-278b-48ea-bbc2-70af48b17d17",
     "showTitle": false,
     "tableResultSettingsMap": {},
     "title": ""
    }
   },
   "outputs": [
    {
     "output_type": "stream",
     "name": "stdout",
     "output_type": "stream",
     "text": [
      "+-----------------+-------------+------------------+\n|            renda|         sexo|        media_voos|\n+-----------------+-------------+------------------+\n|$15.000 – $24.999|     Feminino|1.8902077151335313|\n|$15.000 – $24.999|    Masculino|1.9444444444444444|\n|$15.000 – $24.999|Não informado|1.7647058823529411|\n|$25.000 – $34.999|     Feminino|2.3717277486910993|\n|$25.000 – $34.999|    Masculino|2.3018018018018016|\n|$25.000 – $34.999|Não informado|               2.0|\n|$35.000 – $49.999|     Feminino| 2.605911330049261|\n|$35.000 – $49.999|    Masculino| 2.736654804270463|\n|$35.000 – $49.999|Não informado| 2.823529411764706|\n|$50.000 – $74.999|     Feminino|1.9473684210526316|\n|$50.000 – $74.999|    Masculino| 2.161290322580645|\n|$50.000 – $74.999|Não informado|               1.0|\n| Menos de $15.000|     Feminino|1.7574468085106383|\n| Menos de $15.000|    Masculino|1.6885245901639345|\n| Menos de $15.000|Não informado|               1.0|\n|    Não informado|     Feminino|2.0526315789473686|\n|    Não informado|    Masculino|1.9956140350877194|\n|    Não informado|Não informado|2.1285714285714286|\n+-----------------+-------------+------------------+\n\n"
     ]
    }
   ],
   "source": [
    "df.groupBy(\"renda\", \"sexo\") \\\n",
    "  .agg({\"Q5FLYPERYR\": \"avg\"}) \\\n",
    "  .withColumnRenamed(\"avg(Q5FLYPERYR)\", \"media_voos\") \\\n",
    "  .orderBy(\"renda\", \"sexo\") \\\n",
    "  .show()"
   ]
  },
  {
   "cell_type": "code",
   "execution_count": 0,
   "metadata": {
    "application/vnd.databricks.v1+cell": {
     "cellMetadata": {
      "byteLimit": 2048000,
      "rowLimit": 10000
     },
     "inputWidgets": {},
     "nuid": "fde93f7f-b810-40c0-9136-d06a4530d66b",
     "showTitle": false,
     "tableResultSettingsMap": {},
     "title": ""
    }
   },
   "outputs": [
    {
     "output_type": "stream",
     "name": "stdout",
     "output_type": "stream",
     "text": [
      "+------------------+-------+-----+-----+-----+\n|       region_name|Q10SAFE|count|total| perc|\n+------------------+-------+-----+-----+-----+\n|          Bay Area|      0|    1|  121| 0.83|\n|          Bay Area|      1|    1|  121| 0.83|\n|          Bay Area|      3|   11|  121| 9.09|\n|          Bay Area|      4|   39|  121|32.23|\n|          Bay Area|      5|   69|  121|57.02|\n|California (Other)|      0|   19| 1636| 1.16|\n|California (Other)|      1|    6| 1636| 0.37|\n|California (Other)|      2|    4| 1636| 0.24|\n|California (Other)|      3|  204| 1636|12.47|\n|California (Other)|      4|  569| 1636|34.78|\n|California (Other)|      5|  834| 1636|50.98|\n|     San Francisco|      0|    6|  825| 0.73|\n|     San Francisco|      1|    3|  825| 0.36|\n|     San Francisco|      2|    4|  825| 0.48|\n|     San Francisco|      3|   75|  825| 9.09|\n|     San Francisco|      4|  311|  825| 37.7|\n|     San Francisco|      5|  426|  825|51.64|\n|           Unknown|      0|    6|   49|12.24|\n|           Unknown|      3|    8|   49|16.33|\n|           Unknown|      4|   17|   49|34.69|\n+------------------+-------+-----+-----+-----+\nonly showing top 20 rows\n\n"
     ]
    }
   ],
   "source": [
    "from pyspark.sql.functions import round\n",
    "\n",
    "total_por_regiao = df.groupBy(\"region_name\").count().withColumnRenamed(\"count\", \"total\")\n",
    "seguranca = df.groupBy(\"region_name\", \"Q10SAFE\").count()\n",
    "\n",
    "seguranca_percentual = seguranca.join(total_por_regiao, on=\"region_name\") \\\n",
    "    .withColumn(\"perc\", round((seguranca[\"count\"] / total_por_regiao[\"total\"]) * 100, 2)) \\\n",
    "    .orderBy(\"region_name\", \"Q10SAFE\")\n",
    "\n",
    "seguranca_percentual.show()"
   ]
  },
  {
   "cell_type": "code",
   "execution_count": 0,
   "metadata": {
    "application/vnd.databricks.v1+cell": {
     "cellMetadata": {
      "byteLimit": 2048000,
      "rowLimit": 10000
     },
     "inputWidgets": {},
     "nuid": "3efa8033-99b7-4fc4-a200-563a28cf418d",
     "showTitle": false,
     "tableResultSettingsMap": {},
     "title": ""
    }
   },
   "outputs": [
    {
     "output_type": "stream",
     "name": "stdout",
     "output_type": "stream",
     "text": [
      "+-------+------------------+------------------+------------------+\n|Q18_AGE|               web|            social|               app|\n+-------+------------------+------------------+------------------+\n|      0|1.6557377049180328|1.8032786885245902|1.7704918032786885|\n|      1|               2.0|1.7333333333333334|1.9333333333333333|\n|      2|1.8996539792387543|1.9792387543252594| 1.986159169550173|\n|      3|1.7962328767123288|1.9486301369863013|1.9537671232876712|\n|      4|1.8529411764705883|1.9264705882352942|1.9663865546218486|\n|      5|1.8453159041394336|1.9782135076252723|1.9978213507625273|\n|      6|1.8495145631067962|1.9441747572815533|1.9587378640776698|\n|      7| 1.903030303030303| 1.981818181818182|1.9757575757575758|\n|      9|               2.0|               2.0|               2.0|\n+-------+------------------+------------------+------------------+\n\n"
     ]
    }
   ],
   "source": [
    "df.groupBy(\"Q18_AGE\").agg(\n",
    "    {\"Q11A_USEWEB\": \"avg\", \"Q11B_USESFOAPP\": \"avg\", \"Q11D_USESOCMED\": \"avg\"}\n",
    ").withColumnRenamed(\"avg(Q11A_USEWEB)\", \"web\") \\\n",
    " .withColumnRenamed(\"avg(Q11B_USESFOAPP)\", \"app\") \\\n",
    " .withColumnRenamed(\"avg(Q11D_USESOCMED)\", \"social\") \\\n",
    " .orderBy(\"Q18_AGE\") \\\n",
    " .show()"
   ]
  },
  {
   "cell_type": "code",
   "execution_count": 0,
   "metadata": {
    "application/vnd.databricks.v1+cell": {
     "cellMetadata": {
      "byteLimit": 2048000,
      "rowLimit": 10000
     },
     "inputWidgets": {},
     "nuid": "9d510cf4-5582-4f6c-bbf3-6a4f80c7c75d",
     "showTitle": false,
     "tableResultSettingsMap": {},
     "title": ""
    }
   },
   "outputs": [
    {
     "output_type": "display_data",
     "data": {
      "text/html": [
       "<style scoped>\n",
       "  .table-result-container {\n",
       "    max-height: 300px;\n",
       "    overflow: auto;\n",
       "  }\n",
       "  table, th, td {\n",
       "    border: 1px solid black;\n",
       "    border-collapse: collapse;\n",
       "  }\n",
       "  th, td {\n",
       "    padding: 5px;\n",
       "  }\n",
       "  th {\n",
       "    text-align: left;\n",
       "  }\n",
       "</style><div class='table-result-container'><table class='table-result'><thead style='background-color: white'><tr><th>cidade</th><th>count</th></tr></thead><tbody><tr><td>SAN FRANCISCO</td><td>235</td></tr><tr><td>null</td><td>213</td></tr><tr><td>TORONTO</td><td>54</td></tr><tr><td>SAN JOSE</td><td>54</td></tr><tr><td>LOS ANGELES</td><td>40</td></tr><tr><td>VANCOUVER</td><td>39</td></tr><tr><td>SEATTLE</td><td>34</td></tr><tr><td>AUSTIN</td><td>30</td></tr><tr><td>OAKLAND</td><td>27</td></tr><tr><td>PARIS</td><td>25</td></tr></tbody></table></div>"
      ]
     },
     "metadata": {
      "application/vnd.databricks.v1+output": {
       "addedWidgets": {},
       "aggData": [],
       "aggError": "",
       "aggOverflow": false,
       "aggSchema": [],
       "aggSeriesLimitReached": false,
       "aggType": "",
       "arguments": {},
       "columnCustomDisplayInfos": {},
       "data": [
        [
         "SAN FRANCISCO",
         235
        ],
        [
         null,
         213
        ],
        [
         "TORONTO",
         54
        ],
        [
         "SAN JOSE",
         54
        ],
        [
         "LOS ANGELES",
         40
        ],
        [
         "VANCOUVER",
         39
        ],
        [
         "SEATTLE",
         34
        ],
        [
         "AUSTIN",
         30
        ],
        [
         "OAKLAND",
         27
        ],
        [
         "PARIS",
         25
        ]
       ],
       "datasetInfos": [],
       "dbfsResultPath": null,
       "isJsonSchema": true,
       "metadata": {},
       "overflow": false,
       "plotOptions": {
        "customPlotOptions": {},
        "displayType": "table",
        "pivotAggregation": null,
        "pivotColumns": null,
        "xColumns": null,
        "yColumns": null
       },
       "removedWidgets": [],
       "schema": [
        {
         "metadata": "{}",
         "name": "cidade",
         "type": "\"string\""
        },
        {
         "metadata": "{}",
         "name": "count",
         "type": "\"long\""
        }
       ],
       "type": "table"
      }
     },
     "output_type": "display_data"
    },
    {
     "output_type": "display_data",
     "data": {
      "text/plain": [
       "Databricks visualization. Run in Databricks to view."
      ]
     },
     "metadata": {
      "application/vnd.databricks.v1.subcommand+json": {
       "baseErrorDetails": null,
       "bindings": {},
       "collapsed": false,
       "command": "%python\n__backend_agg_display_orig = display\n__backend_agg_dfs = []\ndef __backend_agg_display_new(df):\n    __backend_agg_df_modules = [\"pandas.core.frame\", \"databricks.koalas.frame\", \"pyspark.sql.dataframe\", \"pyspark.pandas.frame\", \"pyspark.sql.connect.dataframe\"]\n    if (type(df).__module__ in __backend_agg_df_modules and type(df).__name__ == 'DataFrame') or isinstance(df, list):\n        __backend_agg_dfs.append(df)\n\ndisplay = __backend_agg_display_new\n\ndef __backend_agg_user_code_fn():\n    import base64\n    exec(base64.standard_b64decode(\"dG9wX2NpZGFkZXMgPSBkZi5ncm91cEJ5KCJRMTdfQ0lUWSIpIFwKICAgIC5jb3VudCgpIFwKICAgIC5vcmRlckJ5KCJjb3VudCIsIGFzY2VuZGluZz1GYWxzZSkgXAogICAgLmxpbWl0KDEwKQogICAgCnRvcF9jaWRhZGVzID0gdG9wX2NpZGFkZXMud2l0aENvbHVtblJlbmFtZWQoIlExN19DSVRZIiwgImNpZGFkZSIpCgpkaXNwbGF5KHRvcF9jaWRhZGVzKQ==\").decode())\n\ntry:\n    # run user code\n    __backend_agg_user_code_fn()\n\n    #reset display function\n    display = __backend_agg_display_orig\n\n    if len(__backend_agg_dfs) > 0:\n        # create a temp view\n        if type(__backend_agg_dfs[0]).__module__ == \"databricks.koalas.frame\":\n            # koalas dataframe\n            __backend_agg_dfs[0].to_spark().createOrReplaceTempView(\"DatabricksView1b11405\")\n        elif type(__backend_agg_dfs[0]).__module__ == \"pandas.core.frame\" or isinstance(__backend_agg_dfs[0], list):\n            # pandas dataframe\n            spark.createDataFrame(__backend_agg_dfs[0]).createOrReplaceTempView(\"DatabricksView1b11405\")\n        else:\n            __backend_agg_dfs[0].createOrReplaceTempView(\"DatabricksView1b11405\")\n        #run backend agg\n        display(spark.sql(\"\"\"WITH q AS (select * from DatabricksView1b11405) SELECT `cidade`,SUM(`count`) `column_72ade36349` FROM q GROUP BY `cidade`\"\"\"))\n    else:\n        displayHTML(\"dataframe no longer exists. If you're using dataframe.display(), use display(dataframe) instead.\")\n\n\nfinally:\n    spark.sql(\"drop view if exists DatabricksView1b11405\")\n    display = __backend_agg_display_orig\n    del __backend_agg_display_new\n    del __backend_agg_display_orig\n    del __backend_agg_dfs\n    del __backend_agg_user_code_fn\n\n",
       "commandTitle": "Visualization 1",
       "commandType": "auto",
       "commandVersion": 0,
       "commentThread": [],
       "commentsVisible": false,
       "contentSha256Hex": null,
       "customPlotOptions": {
        "redashChart": [
         {
          "key": "type",
          "value": "CHART"
         },
         {
          "key": "options",
          "value": {
           "alignYAxesAtZero": true,
           "coefficient": 1,
           "columnConfigurationMap": {
            "x": {
             "column": "cidade",
             "id": "column_72ade36348"
            },
            "y": [
             {
              "column": "count",
              "id": "column_72ade36349",
              "transform": "SUM"
             }
            ]
           },
           "dateTimeFormat": "DD/MM/YYYY HH:mm",
           "direction": {
            "type": "counterclockwise"
           },
           "error_y": {
            "type": "data",
            "visible": true
           },
           "globalSeriesType": "column",
           "legend": {
            "traceorder": "normal"
           },
           "missingValuesAsZero": true,
           "numberFormat": "0,0.[00000]",
           "percentFormat": "0[.]00%",
           "series": {
            "error_y": {
             "type": "data",
             "visible": true
            },
            "stacking": null
           },
           "seriesOptions": {
            "column_72ade36349": {
             "name": "count",
             "yAxis": 0
            }
           },
           "showDataLabels": false,
           "sizemode": "diameter",
           "sortX": true,
           "sortY": true,
           "swappedAxes": true,
           "textFormat": "",
           "useAggregationsUi": true,
           "valuesOptions": {},
           "version": 2,
           "xAxis": {
            "labels": {
             "enabled": true
            },
            "type": "-"
           },
           "yAxis": [
            {
             "type": "-"
            },
            {
             "opposite": true,
             "type": "-"
            }
           ]
          }
         }
        ]
       },
       "datasetPreviewNameToCmdIdMap": {},
       "diffDeletes": [],
       "diffInserts": [],
       "displayType": "redashChart",
       "error": null,
       "errorDetails": null,
       "errorSummary": null,
       "errorTraceType": null,
       "finishTime": 0,
       "globalVars": {},
       "guid": "",
       "height": "auto",
       "hideCommandCode": false,
       "hideCommandResult": false,
       "iPythonMetadata": null,
       "inputWidgets": {},
       "isLockedInExamMode": false,
       "latestUser": "a user",
       "latestUserId": null,
       "listResultMetadata": null,
       "metadata": {},
       "nuid": "73d61a0f-6310-421a-b21f-cbceb7b7d208",
       "origId": 0,
       "parentHierarchy": [],
       "pivotAggregation": null,
       "pivotColumns": null,
       "position": 115.0,
       "resultDbfsErrorMessage": null,
       "resultDbfsStatus": "INLINED_IN_TREE",
       "results": null,
       "showCommandTitle": false,
       "startTime": 0,
       "state": "input",
       "streamStates": {},
       "subcommandOptions": {
        "queryPlan": {
         "groups": [
          {
           "column": "cidade",
           "type": "column"
          }
         ],
         "selects": [
          {
           "column": "cidade",
           "type": "column"
          },
          {
           "alias": "column_72ade36349",
           "args": [
            {
             "column": "count",
             "type": "column"
            }
           ],
           "function": "SUM",
           "type": "function"
          }
         ]
        }
       },
       "submitTime": 0,
       "subtype": "tableResultSubCmd.visualization",
       "tableResultIndex": 0,
       "tableResultSettingsMap": {},
       "useConsistentColors": false,
       "version": "CommandV1",
       "width": "auto",
       "workflows": [],
       "xColumns": null,
       "yColumns": null
      }
     },
     "output_type": "display_data"
    }
   ],
   "source": [
    "top_cidades = df.groupBy(\"Q17_CITY\") \\\n",
    "    .count() \\\n",
    "    .orderBy(\"count\", ascending=False) \\\n",
    "    .limit(10)\n",
    "    \n",
    "top_cidades = top_cidades.withColumnRenamed(\"Q17_CITY\", \"cidade\")\n",
    "\n",
    "display(top_cidades)"
   ]
  }
 ],
 "metadata": {
  "application/vnd.databricks.v1+notebook": {
   "computePreferences": null,
   "dashboards": [
    {
     "elements": [
      {
       "dashboardResultIndex": null,
       "elementNUID": "73d61a0f-6310-421a-b21f-cbceb7b7d208",
       "elementType": "command",
       "guid": "a1c2abbb-2985-4963-a607-4ef95be74363",
       "options": null,
       "position": null,
       "resultIndex": null
      },
      {
       "dashboardResultIndex": null,
       "elementNUID": "1a4be4fc-ef31-4d25-8c6e-a96fda500107",
       "elementType": "command",
       "guid": "a6035e06-2e45-42f7-82aa-6e1d44b83509",
       "options": null,
       "position": null,
       "resultIndex": null
      },
      {
       "dashboardResultIndex": null,
       "elementNUID": "b61faa70-b721-45e4-8b33-7634966d4425",
       "elementType": "command",
       "guid": "c143c50f-04d2-4b57-84f4-c752135ffd0f",
       "options": null,
       "position": {
        "height": 6,
        "width": 12,
        "x": 0,
        "y": 0,
        "z": null
       },
       "resultIndex": null
      }
     ],
     "globalVars": {},
     "guid": "",
     "layoutOption": {
      "grid": true,
      "stack": true
     },
     "nuid": "e9ef65fe-ddf2-41de-b6c9-75ffb7293b68",
     "origId": 3696139135051903,
     "title": "Untitled",
     "version": "DashboardViewV1",
     "width": 1024
    }
   ],
   "environmentMetadata": {
    "base_environment": "",
    "environment_version": "1"
   },
   "inputWidgetPreferences": null,
   "language": "python",
   "notebookMetadata": {
    "pythonIndentUnit": 4
   },
   "notebookName": "Flight Analysis",
   "widgets": {}
  }
 },
 "nbformat": 4,
 "nbformat_minor": 0
}